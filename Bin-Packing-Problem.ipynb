{
 "cells": [
  {
   "cell_type": "markdown",
   "metadata": {},
   "source": [
    "# Bin Packing Problem\n",
    "\n",
    "The bin packing problem is an optimization problem where given a number of items with a respective weight, we look at the best arrangement of the items to minimize the number of bins or containers needed. The restriction, in this case, is the capacity of the bins which cannot surpass a certain weight. This problem has many real applications in areas as loading trucks with weight restriction, filling up containers, and FPGA semiconductors chip desing. \n",
    "\n",
    "In terms of complexity, the bin packing problem is a NP-hard problem. However, there are efficient algortihms that allows the arrange of large number of items. One of them is the first fit, which provides a fast but not optimal solution of the problem. \n",
    "\n",
    "In this tutorial, we will explore the solution of the bin packing problem, using a quantum computing representation in terms of quaratic unconstraint binary optimizatio (QUBO) and using the quantum approximation optimization (QAOA) algorithm. \n",
    "\n",
    "## 1. Problem statement\n",
    "\n",
    "$$\\underset{\\chi, \\xi}{minimize}\\sum_{i=1}^m \\chi_i$$\n",
    "\n",
    "subject to:\n",
    "$$\\sum_{i=1}^m \\xi_{ij} = 1 \\qquad j=1,...,n$$\n",
    "$$\\sum_{j=1}^n w_{j}\\xi_{ij} \\le Q \\chi_i \\qquad i = 1, ..., m$$\n",
    "$$\\xi_{ij}\\in  \\{0,1\\} \\qquad i=1,..,m \\qquad j=1,..,n$$\n",
    "$$\\chi_{i}\\in  \\{0,1\\} \\qquad i=1,..,m $$\n",
    "\n",
    "- n is the number of items\n",
    "- m is the number of bins\n",
    "- $w_j$ is the j-th item weight\n",
    "- $\\chi_i$ is i-th bin\n",
    "- $\\xi_{ij}$ is the variable that represent if the item j is in the bin i.\n"
   ]
  },
  {
   "cell_type": "code",
   "execution_count": 13,
   "metadata": {},
   "outputs": [],
   "source": [
    "import numpy as np\n",
    "import matplotlib.pyplot as plt\n",
    "from docplex.mp.model import Model\n",
    "\n",
    "from qiskit import BasicAer\n",
    "from qiskit_algorithms import QAOA, NumPyMinimumEigensolver\n",
    "# from qiskit_optimization.algorithms import CplexOptimizer, MinimumEigenOptimizer\n",
    "from qiskit_optimization.algorithms.admm_optimizer import ADMMParameters, ADMMOptimizer\n",
    "from qiskit_optimization import QuadraticProgram\n",
    "from qiskit_optimization import translators\n",
    "from qiskit_optimization.translators import from_docplex_mp\n",
    "\n",
    "\n",
    "\n",
    "\n",
    "from qiskit_optimization.converters import InequalityToEquality, IntegerToBinary, LinearEqualityToPenalty"
   ]
  },
  {
   "cell_type": "code",
   "execution_count": 14,
   "metadata": {},
   "outputs": [],
   "source": [
    "def data_bins(results, wj, n, m, l=0, simplify=False):\n",
    "    \"\"\"save the results on a dictionary with the three items, bins, items, and index.\n",
    "    results (cplex.solve): results of the optimization\n",
    "    wj: (array (1,m): weights of the items\n",
    "    n: (int) number of items\n",
    "    m: (int) number of bins\n",
    "    \"\"\"\n",
    "    if simplify:\n",
    "        bins = np.ones((m,))\n",
    "        if m-l > 0: \n",
    "            bins[m-l-1:m] = results[:m-l]\n",
    "        items = np.zeros((m,n))\n",
    "        items[:,1:] =  results[m-l:(m-1)*n+m-l].reshape(m,n-1)\n",
    "        items[0,0] = 1\n",
    "        items = items.reshape(m,n) * wj\n",
    "        return {\"bins\":bins, \"items\":items,\"index\":np.arange(m)}\n",
    "    else:        \n",
    "        return {\"bins\":results[:m], \"items\":results[m:m+m*n].reshape(m,n) * wj, \"index\":np.arange(m)}\n",
    "def plot_bins(results, wj, n, m, l=0,simplify=False):\n",
    "    \"\"\"plot in a bar diagram the results of an optimization bin packing problem\"\"\"\n",
    "    res = data_bins(results.x, wj, n, m, l, simplify)\n",
    "    plt.figure()\n",
    "    ind = res[\"index\"]\n",
    "    plt.bar(ind, res[\"items\"][:,0], label=f\"item {0}\")\n",
    "    suma = bottom=res[\"items\"][:,0]\n",
    "    for j in range(1,n):\n",
    "        plt.bar(ind, res[\"items\"][:,j], bottom=suma, label=f\"item {j}\")\n",
    "        suma += res[\"items\"][:,j]\n",
    "    plt.hlines(Q,0-0.5,m-0.5,linestyle=\"--\", color=\"r\",label=\"Max W\")\n",
    "    plt.xticks(ind)\n",
    "    plt.xlabel(\"Bin\")\n",
    "    plt.ylabel(\"Weight\")\n",
    "    plt.legend()"
   ]
  },
  {
   "cell_type": "markdown",
   "metadata": {},
   "source": [
    "## 2. Solution\n",
    "\n",
    "For this initial set, we chose a small problem. Here, we select 3 items with a maximal weight of 40. The weight of the items are choose rendomly from values between 1 and the maximal weight. \n",
    "\n",
    "2.1) First, we will use a classical solver of the problem called cplex. \n",
    "\n",
    "2.2) Then, we will make some simplifications of the problem.\n",
    "\n",
    "2.3) Transforming the problem to QUBO representation\n",
    "\n",
    "2.4) My approach\n"
   ]
  },
  {
   "cell_type": "code",
   "execution_count": 15,
   "metadata": {},
   "outputs": [],
   "source": [
    "np.random.seed(2)\n",
    "n = 3 # number of bins\n",
    "m = n # number of items\n",
    "Q = 40 # max weight of a bin\n",
    "\n",
    "wj = np.random.randint(1,Q,n) # Randomly picking the item weight"
   ]
  },
  {
   "cell_type": "code",
   "execution_count": 16,
   "metadata": {},
   "outputs": [
    {
     "name": "stdout",
     "output_type": "stream",
     "text": [
      "\\ This file has been generated by DOcplex\n",
      "\\ ENCODING=ISO-8859-1\n",
      "\\Problem name: BinPacking\n",
      "\n",
      "Minimize\n",
      " obj: x0 + x1 + x2\n",
      "Subject To\n",
      " cons0,0: _e0,0 + _e1,0 + _e2,0 = 1\n",
      " cons0,1: _e0,1 + _e1,1 + _e2,1 = 1\n",
      " cons0,2: _e0,2 + _e1,2 + _e2,2 = 1\n",
      " cons1,0: - 40 x0 + 16 _e0,0 + 9 _e0,1 + 23 _e0,2 <= 0\n",
      " cons1,1: - 40 x1 + 16 _e1,0 + 9 _e1,1 + 23 _e1,2 <= 0\n",
      " cons1,2: - 40 x2 + 16 _e2,0 + 9 _e2,1 + 23 _e2,2 <= 0\n",
      "\n",
      "Bounds\n",
      " 0 <= x0 <= 1\n",
      " 0 <= x1 <= 1\n",
      " 0 <= x2 <= 1\n",
      " 0 <= _e0,0 <= 1\n",
      " 0 <= _e0,1 <= 1\n",
      " 0 <= _e0,2 <= 1\n",
      " 0 <= _e1,0 <= 1\n",
      " 0 <= _e1,1 <= 1\n",
      " 0 <= _e1,2 <= 1\n",
      " 0 <= _e2,0 <= 1\n",
      " 0 <= _e2,1 <= 1\n",
      " 0 <= _e2,2 <= 1\n",
      "\n",
      "Binaries\n",
      " x0 x1 x2 _e0,0 _e0,1 _e0,2 _e1,0 _e1,1 _e1,2 _e2,0 _e2,1 _e2,2\n",
      "End\n",
      "\n"
     ]
    }
   ],
   "source": [
    "# Construct model using docplex\n",
    "mdl = Model(\"BinPacking\")\n",
    "\n",
    "x = mdl.binary_var_list([f\"x{i}\" for i in range(n)]) # list of variables that represent the bins\n",
    "e =  mdl.binary_var_list([f\"e{i//m},{i%m}\" for i in range(n*m)]) # variables that represent the items on the specific bin\n",
    "\n",
    "objective = mdl.sum([x[i] for i in range(n)])\n",
    "\n",
    "mdl.minimize(objective)\n",
    "\n",
    "for j in range(m):\n",
    "    # First set of constraints: the items must be in any bin\n",
    "    constraint0 = mdl.sum([e[i*m+j] for i in range(n)])\n",
    "    mdl.add_constraint(constraint0 == 1, f\"cons0,{j}\")\n",
    "    \n",
    "for i in range(n):\n",
    "    # Second set of constraints: weight constraints\n",
    "    constraint1 = mdl.sum([wj[j] * e[i*m+j] for j in range(m)])\n",
    "    mdl.add_constraint(constraint1 <= Q * x[i], f\"cons1,{i}\")\n",
    "\n",
    "\n",
    "# Load quadratic program from docplex model\n",
    "qp = from_docplex_mp(mdl)\n",
    "print(qp.export_as_lp_string())"
   ]
  },
  {
   "cell_type": "code",
   "execution_count": 17,
   "metadata": {},
   "outputs": [
    {
     "ename": "NameError",
     "evalue": "name 'CplexOptimizer' is not defined",
     "output_type": "error",
     "traceback": [
      "\u001b[0;31m---------------------------------------------------------------------------\u001b[0m",
      "\u001b[0;31mNameError\u001b[0m                                 Traceback (most recent call last)",
      "Cell \u001b[0;32mIn[17], line 5\u001b[0m\n\u001b[1;32m      2\u001b[0m qp \u001b[38;5;241m=\u001b[39m from_docplex_mp(mdl)\n\u001b[1;32m      4\u001b[0m \u001b[38;5;66;03m# Solving Quadratic Program using CPLEX\u001b[39;00m\n\u001b[0;32m----> 5\u001b[0m cplex \u001b[38;5;241m=\u001b[39m \u001b[43mCplexOptimizer\u001b[49m()\n\u001b[1;32m      6\u001b[0m result \u001b[38;5;241m=\u001b[39m cplex\u001b[38;5;241m.\u001b[39msolve(qp)\n\u001b[1;32m      7\u001b[0m \u001b[38;5;28mprint\u001b[39m(result)\n",
      "\u001b[0;31mNameError\u001b[0m: name 'CplexOptimizer' is not defined"
     ]
    }
   ],
   "source": [
    "# convert from DOcplex model to Qiskit Quadratic program\n",
    "qp = from_docplex_mp(mdl)\n",
    "\n",
    "# Solving Quadratic Program using CPLEX\n",
    "cplex = CplexOptimizer()\n",
    "result = cplex.solve(qp)\n",
    "print(result)\n",
    "plot_bins(result, wj, n, m)"
   ]
  },
  {
   "cell_type": "markdown",
   "metadata": {},
   "source": [
    "## 2. Simplifications of the problem\n",
    "\n",
    "The problem variables can be reduce using the following simplifications:\n",
    "\n",
    "- Removing unnecesary decision variables, $l = \\mathrm{Int}\\left(\\frac{\\sum_j^n \\xi_{ij}}{Q}\\right)$\n",
    "\n",
    "- Assing the item 0 to bin 0, $\\xi_{0,0} = 1$\n",
    "\n",
    "Therefore, the number of variables after the simplifications and assuming $m = n$: \n",
    "\n",
    "$$m(n - 1) + (m - l) = (n^2 - l)$$\n",
    "\n",
    "meanwhile for the original number of variables is:\n",
    "\n",
    "$$mn+m = n^2 + n$$\n",
    "\n",
    "a reduction of $(n + l)$ variables."
   ]
  },
  {
   "cell_type": "code",
   "execution_count": null,
   "metadata": {},
   "outputs": [],
   "source": [
    "# Construct model using docplex\n",
    "mdl = Model(\"BinPacking_simplify\")\n",
    "\n",
    "l = int(np.ceil(np.sum(wj)/Q))\n",
    "x = mdl.binary_var_list([f\"x{i}\" for i in range(m)]) # list of variables that represent the bins\n",
    "e =  mdl.binary_var_list([f\"e{i//m},{i%m}\" for i in range(n*m)]) # variables that represent the items on the specific bin\n",
    "\n",
    "objective = mdl.sum([x[i] for i in range(n)])\n",
    "\n",
    "mdl.minimize(objective)\n",
    "\n",
    "for j in range(m):\n",
    "    # First set of constraints: the items must be in any bin\n",
    "    constraint0 = mdl.sum([e[i*m+j] for i in range(n)])\n",
    "    mdl.add_constraint(constraint0 == 1, f\"cons0,{j}\")\n",
    "    \n",
    "for i in range(n):\n",
    "    # Second set of constraints: weight constraints\n",
    "    constraint1 = mdl.sum([wj[j] * e[i*m+j] for j in range(m)])\n",
    "    mdl.add_constraint(constraint1 <= Q * x[i], f\"cons1,{i}\")\n",
    "\n",
    "\n",
    "# Load quadratic program from docplex model\n",
    "qp = from_docplex_mp(mdl)\n",
    "# Simplifying the problem\n",
    "for i in range(l):\n",
    "    qp = qp.substitute_variables({f\"x{i}\":1}) \n",
    "qp = qp.substitute_variables({\"e0,0\":1}) \n",
    "for i in range(1,m):\n",
    "    qp = qp.substitute_variables({f\"e{i},0\":0})\n",
    "print(qp.export_as_lp_string())"
   ]
  },
  {
   "cell_type": "code",
   "execution_count": null,
   "metadata": {},
   "outputs": [],
   "source": [
    "simplify_result = cplex.solve(qp)\n",
    "print(simplify_result)\n",
    "plot_bins(simplify_result, wj, n, m, l, simplify=True)"
   ]
  },
  {
   "cell_type": "markdown",
   "metadata": {},
   "source": [
    "## 2.3 QUBO Representation\n",
    "\n",
    "### Conversion to QUBO\n",
    "Qiskit's optimization module provides converters for Quadratic programs."
   ]
  },
  {
   "cell_type": "code",
   "execution_count": null,
   "metadata": {},
   "outputs": [],
   "source": [
    "ineq2eq = InequalityToEquality()\n",
    "qp_eq = ineq2eq.convert(qp)\n",
    "print(qp_eq.export_as_lp_string())\n",
    "print(f\"The number of variables is {qp_eq.get_num_vars()}\")"
   ]
  },
  {
   "cell_type": "code",
   "execution_count": null,
   "metadata": {},
   "outputs": [],
   "source": [
    "int2bin = IntegerToBinary()\n",
    "qp_eq_bin = int2bin.convert(qp_eq)\n",
    "print(qp_eq_bin.export_as_lp_string())\n",
    "print(f\"The number of variables is {qp_eq_bin.get_num_vars()}\")"
   ]
  },
  {
   "cell_type": "code",
   "execution_count": null,
   "metadata": {},
   "outputs": [],
   "source": [
    "lineq2penalty = LinearEqualityToPenalty()\n",
    "qubo = lineq2penalty.convert(qp_eq_bin)\n",
    "print(f\"The number of variables is {qp_eq_bin.get_num_vars()}\")\n",
    "print(qubo.export_as_lp_string())"
   ]
  },
  {
   "cell_type": "code",
   "execution_count": null,
   "metadata": {},
   "outputs": [],
   "source": [
    "result = cplex.solve(qubo)\n",
    "print(result)"
   ]
  },
  {
   "cell_type": "code",
   "execution_count": null,
   "metadata": {},
   "outputs": [],
   "source": [
    "data_bins(result.x, wj, n, m, l=l, simplify=True)\n",
    "plot_bins(result, wj, n, m, l=l, simplify=True)"
   ]
  },
  {
   "cell_type": "markdown",
   "metadata": {},
   "source": [
    "### Solving using QAOA\n",
    "\n",
    "After transforming the problem to the QUBO's representation. It's possible to use the QAOA solver of qiskit. In this section we present the results using QAOA."
   ]
  },
  {
   "cell_type": "code",
   "execution_count": null,
   "metadata": {},
   "outputs": [],
   "source": [
    "from qiskit import Aer\n",
    "backend = Aer.get_backend(\"qasm_simulator\")"
   ]
  },
  {
   "cell_type": "code",
   "execution_count": null,
   "metadata": {},
   "outputs": [],
   "source": [
    "qaoa = MinimumEigenOptimizer(QAOA(reps=3, quantum_instance=backend))\n",
    "result_qaoa = qaoa.solve(qubo)\n",
    "print(result_qaoa)"
   ]
  },
  {
   "cell_type": "code",
   "execution_count": null,
   "metadata": {},
   "outputs": [],
   "source": [
    "plot_bins(result, wj, n, m, l, simplify=True)\n",
    "plt.title(\"QAOA solution\", fontsize=18)"
   ]
  },
  {
   "cell_type": "markdown",
   "metadata": {},
   "source": [
    "## 2.4) Bin-packing problem - my approach\n",
    "\n",
    "Translating the inequality constraints to equality constraints has a large cost in terms of qubits. What if we use a penalty in terms of an exponential function non-symmetric to the maximal weight. The function should have a large penalty when the maximal weight of a bin is overpassed. In this case, I suggest the following constraint:\n",
    "Penality:\n",
    "\n",
    "$$e^{-x} \\approx 1 - x + x^2/2$$"
   ]
  },
  {
   "cell_type": "code",
   "execution_count": null,
   "metadata": {},
   "outputs": [],
   "source": [
    "# Proposal\n",
    "plt.figure()\n",
    "alpha = -2\n",
    "x = np.linspace(-5,5,100)\n",
    "f = (-(x+alpha) + (x+alpha)**2)\n",
    "plt.plot(x,f)\n",
    "plt.grid()\n",
    "plt.xlabel(\"x\")\n",
    "plt.ylabel(\"f(x)\")"
   ]
  },
  {
   "cell_type": "markdown",
   "metadata": {},
   "source": [
    "#### The new objective:\n",
    "\n",
    "Using the problem in section 7.1 presented in Gambella 2021. Here, we will implement case 1. Small size bin packing problem with a number of items n = 2, 3, 4 with items weight $w_j$ randomly picked [1,Q].\n",
    "\n",
    "- n is the number of items\n",
    "- m is the number of bins\n",
    "- $w_j$ is the items weight\n",
    "\n",
    "$$\\underset{\\chi, \\xi}{minimize}\\sum_{i=1}^m \\chi_i + \\alpha\\left[-\\sum_{i=1}^{m}\\left(Q \\chi_i -\\sum_{j=1}^n w_{j}\\xi_{ij}\\right) + \\left(\\sum_{i=1}^{m}\\left( Q \\chi_i -\\sum_{j=1}^n w_{j}\\xi_{ij}\\right)\\right)^2\\right]$$\n",
    "\n",
    "subject to:\n",
    "\n",
    " $$\\sum_{i=1}^m \\xi_{ij} = 1 \\qquad j=1,...,n$$\n",
    " $$\\sum_{j=1}^n w_{j}\\xi_{ij} \\le Q \\chi_i \\qquad i = 1, ..., m$$\n",
    " $$\\xi_{ij}\\in  \\{0,1\\} \\qquad i=1,..,m \\qquad j=1,..,n$$\n",
    " $$\\chi_{i}\\in  \\{0,1\\} \\qquad i=1,..,m $$"
   ]
  },
  {
   "cell_type": "code",
   "execution_count": null,
   "metadata": {},
   "outputs": [],
   "source": [
    "# Construct model using docplex\n",
    "mdl = Model(\"binPackingMyApproach\")\n",
    "\n",
    "x = mdl.binary_var_list([f\"x{i}\" for i in range(n)]) # list of variables that represent the bins\n",
    "e =  mdl.binary_var_list([f\"e{i//m},{i%n}\" for i in range(n*m)]) # variables that represent the items on the specific bin\n",
    "\n",
    "objective = mdl.sum([x[i] for i in range(m)])\n",
    "cons = 0\n",
    "alpha = -10\n",
    "for i in range(m):\n",
    "    cons_1 = 0\n",
    "    cons_1 += Q*x[i]\n",
    "    for j in range(n):\n",
    "        cons_1 -= wj[j]*e[i*m+j]\n",
    "    cons += (-(cons_1+alpha) + (cons_1+alpha)**2)\n",
    "\n",
    "mdl.minimize(objective + cons)\n",
    "\n",
    "for j in range(m):\n",
    "    # First set of constraints: the items must be in any bin\n",
    "    constraint0 = mdl.sum([e[i*m+j] for i in range(n)])\n",
    "    mdl.add_constraint(constraint0 == 1, f\"cons0,{j}\")\n",
    "    \n",
    "# # Load quadratic program from docplex model\n",
    "qp = QuadraticProgram()\n",
    "qp.from_docplex(mdl)\n",
    "# Simplifying the problem\n",
    "for i in range(l):\n",
    "    qp = qp.substitute_variables({f\"x{i}\":1}) \n",
    "qp = qp.substitute_variables({\"e0,0\":1}) \n",
    "for i in range(1,m):\n",
    "    qp = qp.substitute_variables({f\"e{i},0\":0})\n",
    "print(qp.export_as_lp_string())\n",
    "print(f\"The number of variables is {qp.get_num_vars()}\")"
   ]
  },
  {
   "cell_type": "code",
   "execution_count": null,
   "metadata": {},
   "outputs": [],
   "source": [
    "# Solving Quadratic Program using CPLEX\n",
    "cplex = CplexOptimizer()\n",
    "result = cplex.solve(qp)\n",
    "print(result)\n",
    "plot_bins(result, wj, n, m, l, simplify=True)\n"
   ]
  },
  {
   "cell_type": "code",
   "execution_count": null,
   "metadata": {},
   "outputs": [],
   "source": [
    "qubo_myapp = lineq2penalty.convert(qp)\n",
    "result_myapp = qaoa.solve(qubo_myapp)\n",
    "print(result_myapp)\n",
    "plot_bins(result_myapp, wj, n, m, l, simplify=True)\n",
    "plt.title(\"QAOA solution\")"
   ]
  },
  {
   "cell_type": "code",
   "execution_count": null,
   "metadata": {},
   "outputs": [],
   "source": [
    "import qiskit.tools.jupyter\n",
    "%qiskit_version_table\n",
    "%qiskit_copyright"
   ]
  },
  {
   "cell_type": "code",
   "execution_count": null,
   "metadata": {},
   "outputs": [],
   "source": []
  }
 ],
 "metadata": {
  "kernelspec": {
   "display_name": "Python 3 (ipykernel)",
   "language": "python",
   "name": "python3"
  },
  "language_info": {
   "codemirror_mode": {
    "name": "ipython",
    "version": 3
   },
   "file_extension": ".py",
   "mimetype": "text/x-python",
   "name": "python",
   "nbconvert_exporter": "python",
   "pygments_lexer": "ipython3",
   "version": "3.11.5"
  }
 },
 "nbformat": 4,
 "nbformat_minor": 4
}
