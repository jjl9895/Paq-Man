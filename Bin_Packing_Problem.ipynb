{
  "cells": [
    {
      "cell_type": "markdown",
      "metadata": {
        "id": "GjFNCN6_7Q0S"
      },
      "source": [
        "# paQman: Optimizing Bin-Packing For Sustainability\n",
        "\n",
        "![pac-man.webp](data:image/webp;base64,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)\n",
        "\n",
        "\n",
        "Our team aims to tackle the issue of inefficient supply-chain packing systems.\n",
        "\n",
        "The following code cells contain optimization algorithms for bin packing. \n"
      ]
    },
    {
      "cell_type": "markdown",
      "metadata": {},
      "source": [
        "Box Dimension CV Model"
      ]
    },
    {
      "cell_type": "code",
      "execution_count": null,
      "metadata": {},
      "outputs": [],
      "source": [
        "from scipy.spatial.distance import euclidean\n",
        "import numpy as np\n",
        "import cv2\n",
        "import imutils\n",
        "from imutils import perspective\n",
        "from imutils import contours\n",
        "\n",
        "# Function to display an array of images\n",
        "def display_images(image_list):\n",
        "    for index, image in enumerate(image_list):\n",
        "        cv2.imshow(\"image_\" + str(index), image)\n",
        "    cv2.waitKey(0)\n",
        "    cv2.destroyAllWindows()\n",
        "\n",
        "image_path = \"images/IMG_8626.JPG\"\n",
        "\n",
        "# Read and preprocess the image\n",
        "input_image = cv2.imread(image_path)\n",
        "\n",
        "grayscale_image = cv2.cvtColor(input_image, cv2.COLOR_BGR2GRAY)\n",
        "blurred_image = cv2.GaussianBlur(grayscale_image, (9, 9), 0)\n",
        "\n",
        "edge_detected_image = cv2.Canny(blurred_image, 50, 100)\n",
        "edge_detected_image = cv2.dilate(edge_detected_image, None, iterations=1)\n",
        "edge_detected_image = cv2.erode(edge_detected_image, None, iterations=1)\n",
        "\n",
        "# Find image contours\n",
        "found_contours = cv2.findContours(edge_detected_image.copy(), cv2.RETR_EXTERNAL, cv2.CHAIN_APPROX_SIMPLE)\n",
        "found_contours = imutils.grab_contours(found_contours)\n",
        "\n",
        "# Sort contours from left to right; leftmost contour is the reference object\n",
        "(sorted_contours, _) = contours.sort_contours(found_contours)\n",
        "\n",
        "# Filter out small contours based on area\n",
        "filtered_contours = [contour for contour in sorted_contours if cv2.contourArea(contour) > 100]\n",
        "\n",
        "# Reference object dimensions; a 3cm x 3cm box is used for reference\n",
        "reference_contour = filtered_contours[0]\n",
        "min_area_rect = cv2.minAreaRect(reference_contour)\n",
        "rect_points = cv2.boxPoints(min_area_rect)\n",
        "rect_points = np.array(rect_points, dtype=\"int\")\n",
        "ordered_rect_points = perspective.order_points(rect_points)\n",
        "(top_left, top_right, bottom_right, bottom_left) = ordered_rect_points\n",
        "\n",
        "\n",
        "dist_in_pixel = euclidean(top_left, top_right)\n",
        "dist_in_cm = 3\n",
        "pixel_per_cm = dist_in_pixel/dist_in_cm\n",
        "\n",
        "# List to hold the areas\n",
        "areas = []\n",
        "\n",
        "# Draw remaining contours\n",
        "for cnt in filtered_contours:\n",
        "\n",
        "\t# Make a box\n",
        "\tbox = cv2.minAreaRect(cnt)\n",
        "\tbox = cv2.boxPoints(box)\n",
        "\tbox = np.array(box, dtype=\"int\")\n",
        "\tbox = perspective.order_points(box)\n",
        "\n",
        "\t(tl, tr, br, bl) = box\n",
        "\n",
        "\tcv2.drawContours(input_image, [box.astype(\"int\")], -1, (0, 0, 255), 2)\n",
        "\n",
        "\t# Horizontal and vertical midpoints\n",
        "\thorizontal_mp = (tl[0] + int(abs(tr[0] - tl[0]) / 2), tl[1] + int(abs(tr[1] - tl[1]) / 2))\n",
        "\tvertical_mp = (tr[0] + int(abs(tr[0] - br[0]) / 2), tr[1] + int(abs(tr[1] - br[1]) / 2))\n",
        "\n",
        "\tw = euclidean(tl, tr)/pixel_per_cm\n",
        "\th = euclidean(tr, br)/pixel_per_cm\n",
        "\tareas.append(w*h)\n",
        "\n",
        "\tcv2.putText(input_image, \"{:.1f}cm\".format(w), (int(horizontal_mp[0] - 15), int(horizontal_mp[1] - 10)),\n",
        "\t\t\t\tcv2.FONT_HERSHEY_SIMPLEX, 0.5, (255, 255, 0), 2)\n",
        "\tcv2.putText(input_image, \"{:.1f}cm\".format(h), (int(vertical_mp[0] + 10), int(vertical_mp[1])),\n",
        "\t\t\t\tcv2.FONT_HERSHEY_SIMPLEX, 0.5, (255, 255, 0), 2)\n",
        "\n",
        "# Largest Area in the areas\n",
        "largest_area = max(areas)\n",
        "print(largest_area)\n",
        "\n",
        "\n",
        "display_images([input_image])"
      ]
    },
    {
      "cell_type": "code",
      "execution_count": null,
      "metadata": {
        "colab": {
          "base_uri": "https://localhost:8080/",
          "height": 384
        },
        "id": "WDjQKrbW7Q0U",
        "outputId": "0fbed2a5-485a-49fe-ace7-55d3431994d8"
      },
      "outputs": [],
      "source": [
        "# Importing necessary libraries\n",
        "\n",
        "import numpy as np\n",
        "import matplotlib.pyplot as plt\n",
        "from docplex.mp.model import Model\n",
        "\n",
        "# Quantum libraries and optimizers\n",
        "\n",
        "from qiskit import BasicAer\n",
        "from qiskit_optimization.runtime import QAOAClient\n",
        "from qiskit_algorithms import NumPyMinimumEigensolver\n",
        "from qiskit_optimization.algorithms import CplexOptimizer, MinimumEigenOptimizer\n",
        "from qiskit.algorithms.minimum_eigensolvers import QAOA, NumPyMinimumEigensolver\n",
        "from qiskit_optimization.algorithms.admm_optimizer import ADMMParameters, ADMMOptimizer\n",
        "from qiskit_optimization.problems import QuadraticProgram\n",
        "from qiskit_optimization.translators import from_docplex_mp, from_gurobipy\n",
        "from qiskit_optimization.runtime.vqe_client import VQEClient\n",
        "from qiskit_optimization.converters import InequalityToEquality, IntegerToBinary, LinearEqualityToPenalty"
      ]
    },
    {
      "cell_type": "code",
      "execution_count": null,
      "metadata": {
        "id": "KdGGA0NK7Q0U"
      },
      "outputs": [],
      "source": [
        "def data_bins(results, weights, num_bins, num_items, w=0, simplify=False):\n",
        "    \"\"\"\n",
        "    Parameters:\n",
        "      results: results of cplex optimization\n",
        "      weights: (array (1,m): weights of the items\n",
        "      num_bins: (int) number of bins\n",
        "      num_items: (int) number of items\n",
        "      w = individual item weight\n",
        "\n",
        "    Returns:\n",
        "      dictionary with items, bins, and index\n",
        "    \"\"\"\n",
        "\n",
        "    # Check if the results need to be simplified\n",
        "    if simplify:\n",
        "        # If simplified, calculate bins and items accordingly\n",
        "        bins = np.ones((num_items,))\n",
        "        if num_items-w > 0:\n",
        "            bins[num_items-w-1:num_items] = results[:num_items-w]\n",
        "\n",
        "        items = np.zeros((num_items, num_bins))\n",
        "        items[:, 1:] = results[num_items-w:(num_items-1)*num_bins+num_items-w].reshape(num_items, num_bins-1)\n",
        "        items[0, 0] = 1\n",
        "        items = items.reshape(num_items, num_bins) * weights\n",
        "\n",
        "        return {\"bins\": bins, \"items\": items, \"index\": np.arange(num_items)}\n",
        "    else:\n",
        "        # If not simplified, return bins and items directly\n",
        "        return {\"bins\": results[:num_items], \"items\": results[num_items:num_items+num_items*num_bins].reshape(num_items, num_bins) * weights,\n",
        "                \"index\": np.arange(num_items)}\n",
        "\n",
        "\n",
        "def plot_bins(results, weights, num_bins, num_items, w=0, simplify=False):\n",
        "    \"\"\" plot the results of the optimization\n",
        "\n",
        "    Parameters:\n",
        "      results: results of cplex optimization\n",
        "      weights: (array (1,m): weights of the items\n",
        "      num_bins: (int) number of bins\n",
        "      num_items: (int) number of items\n",
        "      w = individual item weight\n",
        "\n",
        "    Returns:\n",
        "      None\n",
        "    \"\"\"\n",
        "    # Compute the results using the 'data_bins' function\n",
        "    res = data_bins(results.x, weights, num_bins, num_items, w, simplify)\n",
        "\n",
        "    # Create a new figure for the bar plot\n",
        "    plt.figure()\n",
        "\n",
        "    # Get the indices for the bins\n",
        "    ind = res[\"index\"]\n",
        "\n",
        "    # Plot the first item in each bin\n",
        "    plt.bar(ind, res[\"items\"][:,0], label=f\"item {0}\")\n",
        "    suma = bottom=res[\"items\"][:,0]\n",
        "\n",
        "    # Plot the remaining items in each bin, stacked on top of the previous ones\n",
        "    for j in range(1, num_bins):\n",
        "        plt.bar(ind, res[\"items\"][:,j], bottom=suma, label=f\"item {j}\")\n",
        "        suma += res[\"items\"][:,j]\n",
        "\n",
        "    # Add a horizontal line representing the maximum capacity\n",
        "    plt.hlines(capacity, 0-0.5, num_items-0.5, linestyle=\"--\", color=\"r\", label=\"Max W\")\n",
        "\n",
        "    # Set the ticks on the x-axis\n",
        "    plt.xticks(ind)\n",
        "\n",
        "    # Set the labels for the x-axis and y-axis\n",
        "    plt.xlabel(\"Bin\")\n",
        "    plt.ylabel(\"Weight\")\n",
        "\n",
        "    # Display the legend for the plot\n",
        "    plt.legend()"
      ]
    },
    {
      "cell_type": "markdown",
      "metadata": {
        "id": "cXp1DUns7Q0V"
      },
      "source": [
        "## Solution\n",
        "\n",
        "For this initial set, we chose a small problem. Here, we select 3 items with a maximal weight of 40. The weight of the items are choose rendomly from values between 1 and the maximal weight.\n",
        "\n",
        "First, we will use a classical solver of the problem called cplex.\n",
        "\n",
        "Then we transform the problem to QUBO representation and solve using QAOA\n"
      ]
    },
    {
      "cell_type": "code",
      "execution_count": null,
      "metadata": {
        "id": "XaNhYMkO7Q0V"
      },
      "outputs": [],
      "source": [
        "# Initialize test values\n",
        "\n",
        "np.random.seed(5)\n",
        "num_bins = 2 # number of bins\n",
        "num_items = 2 # number of items\n",
        "capacity = 20 # max weight of a bin\n",
        "\n",
        "weights = np.random.randint(0, capacity, num_bins) # randomly choosing weight of item"
      ]
    },
    {
      "cell_type": "code",
      "execution_count": null,
      "metadata": {
        "id": "Gd0h64j17Q0V"
      },
      "outputs": [],
      "source": [
        "# Construct model using DOcplex\n",
        "mdl = Model(\"BinPacking\")\n",
        "\n",
        "bin_vars = mdl.binary_var_list([f\"bin_vars{i}\" for i in range(num_bins)])  # list of variables that represent the bins\n",
        "item_vars = mdl.binary_var_list([f\"item_vars{i//num_items},{i%num_items}\" for i in range(num_bins*num_items)])  # variables that represent the items on the specific bin\n",
        "\n",
        "summation = mdl.sum([bin_vars[i] for i in range(num_bins)])\n",
        "mdl.minimize(summation)\n",
        "\n",
        "for j in range(num_items):\n",
        "    # First set of constraints: the items must be in any bin\n",
        "    constraint0 = mdl.sum([item_vars[i*num_items+j] for i in range(num_bins)])\n",
        "    mdl.add_constraint(constraint0 == 1, f\"cons0,{j}\")\n",
        "\n",
        "for i in range(num_bins):\n",
        "    # Second set of constraints: weight constraints\n",
        "    constraint1 = mdl.sum([weights[j] * item_vars[i*num_items+j] for j in range(num_items)])\n",
        "    mdl.add_constraint(constraint1 <= capacity * bin_vars[i], f\"cons1,{i}\")\n",
        "\n",
        "# Convert DOcplex model into Qiskit Quadratic program\n",
        "qp = QuadraticProgram()\n",
        "qp = from_docplex_mp(mdl)\n",
        "print(qp.export_as_lp_string())"
      ]
    },
    {
      "cell_type": "code",
      "execution_count": null,
      "metadata": {
        "id": "Str2V0l57Q0W"
      },
      "outputs": [],
      "source": [
        "# Solving Quadratic Program using CPLEX\n",
        "cplex = CplexOptimizer()\n",
        "result = cplex.solve(qp)\n",
        "print(result)\n",
        "plot_bins(result, weights, num_bins, num_items)"
      ]
    },
    {
      "cell_type": "code",
      "execution_count": null,
      "metadata": {
        "id": "gDZd8m2E7Q0W"
      },
      "outputs": [],
      "source": [
        "# Calculate the number of bins needed (w) based on the total weight and capacity\n",
        "w = int(np.ceil(np.sum(weights) / capacity))\n",
        "\n",
        "# Set the variables for the first 'w' bins to 1\n",
        "for i in range(w):\n",
        "    qp = qp.substitute_variables({f\"bin_vars{i}\": 1})\n",
        "\n",
        "# Set the variable for the first item in the first bin to 1\n",
        "qp = qp.substitute_variables({\"item_vars0,0\": 1})\n",
        "\n",
        "# Set the variables for the remaining items to 0 in the first column (representing the first bin)\n",
        "for i in range(1, num_items):\n",
        "    qp = qp.substitute_variables({f\"item_vars{i},0\": 0})\n",
        "\n",
        "# Print the modified quadratic program as an LP (Linear Programming) string\n",
        "print(qp.export_as_lp_string())"
      ]
    },
    {
      "cell_type": "code",
      "execution_count": null,
      "metadata": {
        "id": "TsnvzWzm7Q0W"
      },
      "outputs": [],
      "source": [
        "simplify_result = cplex.solve(qp)\n",
        "print(simplify_result)\n",
        "plot_bins(simplify_result, weights, num_bins, num_items, w, simplify=True)"
      ]
    },
    {
      "cell_type": "markdown",
      "metadata": {
        "id": "f8MW8BYT7Q0W"
      },
      "source": [
        "## QUBO Representation\n",
        "\n",
        "### Conversion to QUBO\n",
        "Qiskit's optimization module provides converters for Quadratic programs."
      ]
    },
    {
      "cell_type": "code",
      "execution_count": null,
      "metadata": {
        "id": "AxqtEDYL7Q0W"
      },
      "outputs": [],
      "source": [
        "# Initialize an InequalityToEquality object\n",
        "ineq2eq = InequalityToEquality()\n",
        "\n",
        "# Convert the quadratic program (qp) to an equivalent form with equality constraints\n",
        "qp_eq = ineq2eq.convert(qp)\n",
        "\n",
        "# Export the modified quadratic program as an LP (Linear Programming) string\n",
        "print(qp_eq.export_as_lp_string())\n",
        "\n",
        "# Print the number of variables in the modified quadratic program\n",
        "print(f\"The number of variables is {qp_eq.get_num_vars()}\")"
      ]
    },
    {
      "cell_type": "code",
      "execution_count": null,
      "metadata": {
        "id": "JPLXIJe-7Q0X"
      },
      "outputs": [],
      "source": [
        "# Initialize an IntegerToBinary object\n",
        "int2bin = IntegerToBinary()\n",
        "\n",
        "# Convert the quadratic program with equality constraints (qp_eq) to a binary representation\n",
        "qp_eq_bin = int2bin.convert(qp_eq)\n",
        "\n",
        "# Export the modified quadratic program (in binary representation) as an LP (Linear Programming) string\n",
        "print(qp_eq_bin.export_as_lp_string())\n",
        "\n",
        "# Print the number of variables in the modified quadratic program (in binary representation)\n",
        "print(f\"The number of variables is {qp_eq_bin.get_num_vars()}\")"
      ]
    },
    {
      "cell_type": "code",
      "execution_count": null,
      "metadata": {
        "id": "DROSk0Wb7Q0X"
      },
      "outputs": [],
      "source": [
        "# Initialize a LinearEqualityToPenalty object\n",
        "lineq2penalty = LinearEqualityToPenalty()\n",
        "\n",
        "# Convert the quadratic program with equality constraints and in binary representation (qp_eq_bin)\n",
        "# to a QUBO (Quadratic Unconstrained Binary Optimization) representation\n",
        "qubo = lineq2penalty.convert(qp_eq_bin)\n",
        "\n",
        "# Print the number of variables in the modified quadratic program (in binary representation)\n",
        "print(f\"The number of variables is {qp_eq_bin.get_num_vars()}\")\n",
        "\n",
        "# Export the QUBO as an LP (Linear Programming) string\n",
        "print(qubo.export_as_lp_string())"
      ]
    },
    {
      "cell_type": "code",
      "execution_count": null,
      "metadata": {
        "id": "5y8boHhT7Q0X"
      },
      "outputs": [],
      "source": [
        "# Solve the quadratic system and display the results\n",
        "result = cplex.solve(qubo)\n",
        "print(result)"
      ]
    },
    {
      "cell_type": "code",
      "execution_count": null,
      "metadata": {
        "id": "uIDnAZs47Q0X"
      },
      "outputs": [],
      "source": [
        "data_bins(result.x, weights, num_bins, num_items, w, simplify=w)\n",
        "plot_bins(result, weights, num_bins, num_items, w=w, simplify=True)"
      ]
    },
    {
      "cell_type": "markdown",
      "metadata": {
        "id": "rus_u8JE7Q0X"
      },
      "source": [
        "### Solving using QAOA\n",
        "\n",
        "After transforming the problem to the QUBO's representation. It's possible to use the QAOA solver of qiskit. In this section we present the results using QAOA."
      ]
    },
    {
      "cell_type": "code",
      "execution_count": null,
      "metadata": {
        "id": "WsMK37pe7Q0X"
      },
      "outputs": [],
      "source": [
        "# Import necessary modules and classes from Qiskit\n",
        "from qiskit_ibm_provider import IBMProvider  # Import IBMProvider from qiskit_ibm_provider package\n",
        "from qiskit_ibm_runtime import QiskitRuntimeService, Options, Sampler  # Import necessary classes from qiskit_ibm_runtime package\n",
        "\n",
        "# Initialize an IBMProvider (Account Required)\n",
        "provider = IBMProvider()\n",
        "\n",
        "# Import additional modules and classes from Qiskit\n",
        "from qiskit.algorithms.optimizers import L_BFGS_B  # Import L_BFGS_B optimizer from qiskit.algorithms.optimizers\n",
        "from qiskit.primitives import Sampler  # Import Sampler from qiskit.primitives\n",
        "service = QiskitRuntimeService()\n",
        "from qiskit import IBMQ  # Import IBMQ from qiskit package\n",
        "\n",
        "# Configure options for Qiskit runtime\n",
        "options = Options()\n",
        "\n",
        "# Configure the provider to use the IBM Open Systems instance\n",
        "provider = IBMProvider(instance=\"ibm-q/open/main\")  # Local system\n",
        "\n",
        "# Get the IBM QASM simulator backend\n",
        "backend = service.get_backend(\"ibmq_qasm_simulator\")\n",
        "\n",
        "# Create a sampler instance\n",
        "sampler = Sampler()\n",
        "\n",
        "# Configure the QAOA client for quantum optimization\n",
        "qaoa_mes = QAOAClient(provider=provider, backend=backend)\n",
        "\n",
        "# Create a QAOA instance for quantum optimization using a sampler and L_BFGS_B optimizer\n",
        "qaoa_mes = QAOA(sampler=Sampler(), optimizer=L_BFGS_B())\n",
        "\n",
        "# Create a MinimumEigenOptimizer instance using QAOA as the solver\n",
        "bqaoa = MinimumEigenOptimizer(qaoa_mes)\n",
        "\n",
        "# Solve the QUBO using QAOA-based quantum optimization\n",
        "result_qaoa = bqaoa.solve(qubo)\n",
        "\n",
        "# Print the result obtained from the quantum optimization\n",
        "print(result_qaoa)"
      ]
    },
    {
      "cell_type": "code",
      "execution_count": null,
      "metadata": {
        "id": "-8UWfDcf7Q0Y"
      },
      "outputs": [],
      "source": [
        "# Plot the Bins\n",
        "plot_bins(result, weights, num_bins, num_items, w, simplify=True)\n",
        "plt.title(\"QAOA solution\", fontsize=18)"
      ]
    }
  ],
  "metadata": {
    "colab": {
      "provenance": []
    },
    "kernelspec": {
      "display_name": "Python 3 (ipykernel)",
      "language": "python",
      "name": "python3"
    },
    "language_info": {
      "codemirror_mode": {
        "name": "ipython",
        "version": 3
      },
      "file_extension": ".py",
      "mimetype": "text/x-python",
      "name": "python",
      "nbconvert_exporter": "python",
      "pygments_lexer": "ipython3",
      "version": "3.11.4"
    }
  },
  "nbformat": 4,
  "nbformat_minor": 0
}
